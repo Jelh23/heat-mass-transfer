{
  "nbformat": 4,
  "nbformat_minor": 0,
  "metadata": {
    "colab": {
      "provenance": [],
      "collapsed_sections": [
        "OJ9OS_9NfQ2b",
        "Y82N-8RyqIDs",
        "BZ5zMO9TsQfM",
        "YCiGxOl8uFlb",
        "U8pyWAN_u-Xv",
        "J217gw_UzvHD",
        "jp04IgEm7a9m",
        "Bp-oSxdnjxpP",
        "qryeChURh4XV",
        "thrqRQWNBFXg",
        "1HkYJ3gzBqv6",
        "NQ8S2TN5Bj8_",
        "x47Z9DgaPPsL",
        "Vu5f4277Sec4",
        "ZJPy8LAtUZT7",
        "CXkNyD8jinuG",
        "YAm5xh__XxHg",
        "s4iDjxmvYDP_",
        "m_kIM9-OZ4ge",
        "pULYak6Qavvu",
        "G40V7kY4b2gz",
        "PNwcOsHkcQ_V"
      ],
      "toc_visible": true,
      "authorship_tag": "ABX9TyP8TuS6VFnuA16nUFSNdVMp",
      "include_colab_link": true
    },
    "kernelspec": {
      "name": "python3",
      "display_name": "Python 3"
    },
    "language_info": {
      "name": "python"
    }
  },
  "cells": [
    {
      "cell_type": "markdown",
      "metadata": {
        "id": "view-in-github",
        "colab_type": "text"
      },
      "source": [
        "<a href=\"https://colab.research.google.com/github/Jelh23/heat-mass-transfer/blob/main/Heat_Transfer_Transient.ipynb\" target=\"_parent\"><img src=\"https://colab.research.google.com/assets/colab-badge.svg\" alt=\"Open In Colab\"/></a>"
      ]
    },
    {
      "cell_type": "markdown",
      "source": [
        "##WARNING"
      ],
      "metadata": {
        "id": "SPApV7ZdRrmz"
      }
    },
    {
      "cell_type": "markdown",
      "source": [
        "*   Use RUN ALL, every time\n",
        "*   Check results for λₙ in Wolfram\n",
        "\n"
      ],
      "metadata": {
        "id": "GFUIYQUpRwLT"
      }
    },
    {
      "cell_type": "code",
      "source": [
        "import pandas as pd\n",
        "import numpy as np\n",
        "import math\n",
        "import matplotlib.pyplot as plt\n",
        "\n",
        "from scipy.optimize import fsolve\n",
        "from scipy.special import j0, j1, jn_zeros  # Bessel functions\n",
        "from scipy.optimize import root_scalar"
      ],
      "metadata": {
        "id": "D_Fnuz9PssbP"
      },
      "execution_count": null,
      "outputs": []
    },
    {
      "cell_type": "markdown",
      "source": [
        "# Plane Wall"
      ],
      "metadata": {
        "id": "QCt6xfBSpigh"
      }
    },
    {
      "cell_type": "markdown",
      "source": [
        "## Parameters"
      ],
      "metadata": {
        "id": "5jKEnawhpdz7"
      }
    },
    {
      "cell_type": "code",
      "execution_count": null,
      "metadata": {
        "id": "6fbfVhwcpRED"
      },
      "outputs": [],
      "source": [
        "L = 0.02  # Half thickness of the wall (m)\n",
        "A = 1  # Surface area of one side (m^2)\n",
        "V = A * 2 * L  # Volume of the wall (m^3), 2L because it's the full thickness\n",
        "\n",
        "T_inf = 500 + 273.15  # Ambient temperature on both sides (K)\n",
        "Ti = 20 + 273.15  # Initial temperature of the wall (K)\n",
        "\n",
        "h = 120  # Convective heat transfer coefficient on both sides (W/m^2K)\n",
        "\n",
        "k = 110  # Thermal conductivity of the wall (W/m·K)\n",
        "alpha = 33.9e-6  # Thermal diffusivity of the wall (m^2/s)\n",
        "\n",
        "t = 7*60  # Time (s)\n",
        "x = 1  # Position from the center of the wall (meters, m), [-L, L]\n",
        "\n",
        "rho = 8530  # Density of the material (kg/m^3)\n",
        "Cp = 380    # Specific heat capacity of the material (J/kg·K)"
      ]
    },
    {
      "cell_type": "markdown",
      "source": [
        "## Lumped System Check"
      ],
      "metadata": {
        "id": "OJ9OS_9NfQ2b"
      }
    },
    {
      "cell_type": "code",
      "source": [
        "A_s_wall = 2 * A  # Both surfaces exposed\n",
        "\n",
        "Lc_wall = V / A_s_wall\n",
        "Bi_wall = h * Lc_wall / k\n",
        "\n",
        "print(f\"Lc_wall: {Lc_wall:.4f} m\")\n",
        "print(f\"Bi_wall: {Bi_wall:.4f} \\n\")\n",
        "\n",
        "if Bi_wall <= 0.1:\n",
        "    print(\"Lumped system model is valid for the wall\")\n",
        "else:\n",
        "    print(\"Lumped system model is NOT valid for the wall\")"
      ],
      "metadata": {
        "colab": {
          "base_uri": "https://localhost:8080/"
        },
        "id": "3qlBk9r4fS0J",
        "outputId": "cfd87949-d578-4383-f923-2ad4a2544e11"
      },
      "execution_count": null,
      "outputs": [
        {
          "output_type": "stream",
          "name": "stdout",
          "text": [
            "Lc_wall: 0.0200 m\n",
            "Bi_wall: 0.0218 \n",
            "\n",
            "Lumped system model is valid for the wall\n"
          ]
        }
      ]
    },
    {
      "cell_type": "markdown",
      "source": [
        "## Biot and Fourier numbers"
      ],
      "metadata": {
        "id": "Y82N-8RyqIDs"
      }
    },
    {
      "cell_type": "code",
      "source": [
        "Bi = (h * L) / k  # Biot number (dimensionless)\n",
        "Fo = (alpha * t) / (L**2)  # Fourier number (dimensionless time)\n",
        "\n",
        "print(f\"Biot number (Bi): {Bi}\")\n",
        "print(f\"Fourier number (Fo) for time {t} s: {Fo}\")"
      ],
      "metadata": {
        "id": "ItoKIK35qZWw",
        "colab": {
          "base_uri": "https://localhost:8080/"
        },
        "outputId": "c8dd656b-b665-45a7-895c-5129b5941ce9"
      },
      "execution_count": null,
      "outputs": [
        {
          "output_type": "stream",
          "name": "stdout",
          "text": [
            "Biot number (Bi): 0.021818181818181816\n",
            "Fourier number (Fo) for time 420 s: 35.595\n"
          ]
        }
      ]
    },
    {
      "cell_type": "markdown",
      "source": [
        "## Characteristic equation"
      ],
      "metadata": {
        "id": "BZ5zMO9TsQfM"
      }
    },
    {
      "cell_type": "code",
      "source": [
        "# Function to represent the characteristic equation\n",
        "def characteristic_eq(lambda_n, Bi):\n",
        "    return lambda_n * np.tan(lambda_n) - Bi\n",
        "\n",
        "def solve_lambda_n(Bi, num_eigenvalues=5, tol=1e-6):\n",
        "    lambda_n_values = []\n",
        "\n",
        "    # Special case: Bi ≈ 0 ⇒ λ = 0 is a solution\n",
        "    if np.isclose(Bi, 0.0, atol=tol):\n",
        "        lambda_n_values.append(0.0)\n",
        "        num_eigenvalues -= 1\n",
        "\n",
        "    # Use a good spread of initial guesses to hit each root\n",
        "    initial_guesses = np.linspace(0.5, num_eigenvalues * np.pi, num_eigenvalues * 2)\n",
        "\n",
        "    for guess in initial_guesses:\n",
        "        lambda_n_solution = fsolve(characteristic_eq, guess, args=(Bi,), xtol=1e-10, maxfev=10000)\n",
        "        lambda_n = lambda_n_solution[0]\n",
        "\n",
        "        # Filter only valid and distinct roots\n",
        "        if lambda_n > 0 and not any(np.isclose(lambda_n, val, atol=1e-6) for val in lambda_n_values):\n",
        "            lambda_n_values.append(lambda_n)\n",
        "\n",
        "        if len(lambda_n_values) >= num_eigenvalues:\n",
        "            break\n",
        "\n",
        "    return np.sort(lambda_n_values)\n",
        "\n",
        "\n",
        "# Use the Biot number (Bi) calculated earlier\n",
        "lambda_n_values = solve_lambda_n(Bi)\n",
        "\n",
        "# Print the results\n",
        "print(\"Eigenvalues (lambda_n) for Bi =\", Bi)\n",
        "for i, lambda_n in enumerate(lambda_n_values):\n",
        "    print(f\"lambda_{i+1}: {lambda_n}\")"
      ],
      "metadata": {
        "colab": {
          "base_uri": "https://localhost:8080/"
        },
        "id": "ZL2CapblsPNq",
        "outputId": "dd3e6359-e190-4735-c22d-41ef924e52c2"
      },
      "execution_count": null,
      "outputs": [
        {
          "output_type": "stream",
          "name": "stdout",
          "text": [
            "Eigenvalues (lambda_n) for Bi = 0.021818181818181816\n",
            "lambda_1: 0.1471748059851693\n",
            "lambda_2: 3.14852220059651\n",
            "lambda_3: 6.286655847757758\n",
            "lambda_4: 9.427092369285518\n",
            "lambda_5: 12.568106608537144\n"
          ]
        }
      ]
    },
    {
      "cell_type": "markdown",
      "source": [
        "**Check with Wolfram:** x * tan(x) = Bi"
      ],
      "metadata": {
        "id": "DgVI66JkSPBE"
      }
    },
    {
      "cell_type": "markdown",
      "source": [
        "## Factor Aₙ"
      ],
      "metadata": {
        "id": "YCiGxOl8uFlb"
      }
    },
    {
      "cell_type": "code",
      "source": [
        "# Function to calculate A_n for each lambda_n\n",
        "def calculate_An(lambda_n_values):\n",
        "    An_values = []\n",
        "    for lambda_n in lambda_n_values:\n",
        "        An = (4 * np.sin(lambda_n)) / (2 * lambda_n + np.sin(2 * lambda_n))  # An formula\n",
        "        An_values.append(An)\n",
        "    return An_values\n",
        "\n",
        "# Calculate A_n for each lambda_n\n",
        "An_values = calculate_An(lambda_n_values)\n",
        "\n",
        "# Print only the A_n values\n",
        "print(\"Corresponding A_n values:\")\n",
        "for i, An in enumerate(An_values):\n",
        "    print(f\"A_{i+1}: {An}\")"
      ],
      "metadata": {
        "colab": {
          "base_uri": "https://localhost:8080/"
        },
        "id": "9qX3hGyQuieQ",
        "outputId": "a41e83b2-bc6a-4a2b-d2f0-8bf866bc3844"
      },
      "execution_count": null,
      "outputs": [
        {
          "output_type": "stream",
          "name": "stdout",
          "text": [
            "Corresponding A_n values:\n",
            "A_1: 1.0036087072708104\n",
            "A_2: -0.004392076057810914\n",
            "A_3: 0.0011034861344210946\n",
            "A_4: -0.0004908912101305267\n",
            "A_5: 0.00027621559972825904\n"
          ]
        }
      ]
    },
    {
      "cell_type": "markdown",
      "source": [
        "## Dimensionless temperature θₙ"
      ],
      "metadata": {
        "id": "U8pyWAN_u-Xv"
      }
    },
    {
      "cell_type": "code",
      "source": [
        "# Function to calculate dimensionless temperature theta_n\n",
        "def calculate_theta_n(An_values, lambda_n_values, Fo, x, L):\n",
        "    theta_n_values = []\n",
        "    for An, lambda_n in zip(An_values, lambda_n_values):\n",
        "        theta_n = An * np.exp(-(lambda_n**2) * Fo) * np.cos(lambda_n * x / L)  # theta_n formula\n",
        "        theta_n_values.append(theta_n)\n",
        "    return theta_n_values\n",
        "\n",
        "# Calculate dimensionless temperature theta_n for each n\n",
        "theta_n_values = calculate_theta_n(An_values, lambda_n_values, Fo, x, L)\n",
        "\n",
        "# Print individual theta_n values\n",
        "print(\"Dimensionless temperature theta_n values:\")\n",
        "for i, theta_n in enumerate(theta_n_values):\n",
        "    print(f\"theta_{i+1}: {theta_n}\")\n",
        "\n",
        "# Calculate the sum of all theta_n values\n",
        "sum_theta_n = sum(theta_n_values)\n",
        "\n",
        "# Print the sum of all theta_n values separately\n",
        "print(f\"\\nSum of all theta_n values: {sum_theta_n}\")"
      ],
      "metadata": {
        "colab": {
          "base_uri": "https://localhost:8080/"
        },
        "id": "dUqmsGbuvl1i",
        "outputId": "d89f6740-661c-4226-b998-1d60426b9514"
      },
      "execution_count": null,
      "outputs": [
        {
          "output_type": "stream",
          "name": "stdout",
          "text": [
            "Dimensionless temperature theta_n values:\n",
            "theta_1: 0.22061691963097876\n",
            "theta_2: -2.348991770923832e-156\n",
            "theta_3: 0.0\n",
            "theta_4: -0.0\n",
            "theta_5: 0.0\n",
            "\n",
            "Sum of all theta_n values: 0.22061691963097876\n"
          ]
        }
      ]
    },
    {
      "cell_type": "markdown",
      "source": [
        "## Solutions table"
      ],
      "metadata": {
        "id": "J217gw_UzvHD"
      }
    },
    {
      "cell_type": "code",
      "source": [
        "# Function to display the results in a table format\n",
        "def display_results_table(lambda_n_values, An_values, theta_n_values):\n",
        "    # Prepare the data for the table\n",
        "    table_data = {\n",
        "        'n': np.arange(1, len(lambda_n_values) + 1),\n",
        "        'lambda_n': [round(val, 6) for val in lambda_n_values],\n",
        "        'A_n': [round(val, 6) for val in An_values],\n",
        "        'theta_n': [round(val, 6) for val in theta_n_values]\n",
        "    }\n",
        "\n",
        "    # Create a DataFrame for better visualization\n",
        "    df = pd.DataFrame(table_data)\n",
        "\n",
        "    # Calculate the sum of all theta_n values and add it as a row in the table\n",
        "    sum_theta_n = round(sum(theta_n_values), 6)\n",
        "    df.loc[len(df)] = ['Sum', '', '', sum_theta_n]\n",
        "\n",
        "    # Display the table\n",
        "    print(\"\\nResults Table:\")\n",
        "    print(df)\n",
        "\n",
        "# Display results with table\n",
        "display_results_table(lambda_n_values, An_values, theta_n_values)\n",
        "\n",
        "\n",
        "# Function to calculate the total temperature T(x,t) based on the sum of theta_n\n",
        "def calculate_temperature(T_inf, Ti, theta_n_values):\n",
        "    # Sum of all theta_n values\n",
        "    sum_theta_n = sum(theta_n_values)\n",
        "    # Total temperature equation: T = T_inf + sum(theta_n) * (Ti - T_inf)\n",
        "    T_total = T_inf + sum_theta_n * (Ti - T_inf)\n",
        "    return round(T_total, 2)\n",
        "\n",
        "# Calculate the total temperature at x\n",
        "T_total = calculate_temperature(T_inf, Ti, theta_n_values)\n",
        "# Convert the total temperature to Celsius\n",
        "T_total_C = T_total - 273.15\n",
        "\n",
        "# Display the result\n",
        "print(f\"\\nCalculated Temperature at x = {x} m: {T_total} K\")\n",
        "print(f\"Calculated Temperature at x = {x} m: {T_total_C:.2f} °C\")"
      ],
      "metadata": {
        "colab": {
          "base_uri": "https://localhost:8080/"
        },
        "id": "od4BSpotzwoF",
        "outputId": "8afa5c81-4e24-46e9-c8ce-d9b6bf321344"
      },
      "execution_count": null,
      "outputs": [
        {
          "output_type": "stream",
          "name": "stdout",
          "text": [
            "\n",
            "Results Table:\n",
            "     n   lambda_n       A_n   theta_n\n",
            "0    1   0.147175  1.003609  0.220617\n",
            "1    2   3.148522 -0.004392 -0.000000\n",
            "2    3   6.286656  0.001103  0.000000\n",
            "3    4   9.427092 -0.000491 -0.000000\n",
            "4    5  12.568107  0.000276  0.000000\n",
            "5  Sum                       0.220617\n",
            "\n",
            "Calculated Temperature at x = 1 m: 667.25 K\n",
            "Calculated Temperature at x = 1 m: 394.10 °C\n"
          ]
        }
      ]
    },
    {
      "cell_type": "markdown",
      "source": [
        "## Heat Transfer Q"
      ],
      "metadata": {
        "id": "jp04IgEm7a9m"
      }
    },
    {
      "cell_type": "code",
      "source": [
        "lambda_1 = lambda_n_values[0]  # First eigenvalue\n",
        "A1 = An_values[0]  # First An\n",
        "\n",
        "\n",
        "# Calculate QMax\n",
        "QMax = rho * V * Cp * (Ti - T_inf)\n",
        "\n",
        "# Calculate theta_0,wall\n",
        "theta0_wall = A1 * np.exp(-lambda_1**2 * Fo)\n",
        "\n",
        "# Calculate heat transfer Q\n",
        "Q = QMax * (1 - (theta0_wall * np.sin(lambda_1) / lambda_1))\n",
        "\n",
        "# Display the results in scientific notation\n",
        "print(f\"QMax: {QMax:.3e} J\")\n",
        "print(f\"theta0_wall: {theta0_wall:.3e}\")\n",
        "print(f\"\\nHeat Transfer (Q): {Q:.3e} J\")\n",
        "\n",
        "if Q > 0:\n",
        "    print(f\"The wall expelled {Q:.2e} J of heat.\")\n",
        "else:\n",
        "    print(f\"The wall absorbed {-Q:.2e} J of heat.\")"
      ],
      "metadata": {
        "colab": {
          "base_uri": "https://localhost:8080/"
        },
        "id": "3oXdMC3M7cZ1",
        "outputId": "3d9b9327-17ac-4edd-a489-c5a22a51463e"
      },
      "execution_count": null,
      "outputs": [
        {
          "output_type": "stream",
          "name": "stdout",
          "text": [
            "QMax: -6.223e+07 J\n",
            "theta0_wall: 4.642e-01\n",
            "\n",
            "Heat Transfer (Q): -3.345e+07 J\n",
            "The wall absorbed 3.34e+07 J of heat.\n"
          ]
        }
      ]
    },
    {
      "cell_type": "markdown",
      "source": [
        "## Graph"
      ],
      "metadata": {
        "id": "Bp-oSxdnjxpP"
      }
    },
    {
      "cell_type": "code",
      "source": [
        "# Function to calculate theta_n at a given x\n",
        "def calculate_theta_n_wall(An_values, lambda_n_values, Fo, x, L):\n",
        "    theta_n_values = []\n",
        "    for An, lambda_n in zip(An_values, lambda_n_values):\n",
        "        theta_n = An * np.exp(-(lambda_n**2) * Fo) * np.cos(lambda_n * x / L)\n",
        "        theta_n_values.append(theta_n)\n",
        "    return sum(theta_n_values)\n",
        "\n",
        "# Generate spatial points from center (x=0) to surface (x=L)\n",
        "x_points = np.linspace(0, L, 12)  # 12 points inside wall\n",
        "theta_profile = [calculate_theta_n_wall(An_values, lambda_n_values, Fo, x, L) for x in x_points]\n",
        "T_profile = [T_inf + theta * (Ti - T_inf) for theta in theta_profile]\n",
        "\n",
        "# Convert to Celsius for plotting (optional)\n",
        "T_profile_C = [T - 273.15 for T in T_profile]\n",
        "\n",
        "# Plotting\n",
        "plt.figure(figsize=(8, 5))\n",
        "plt.plot(x_points, T_profile_C, marker='o', linestyle='-', color='blue')\n",
        "plt.title(\"Temperature Distribution in Wall at t = {:.0f} s\".format(t))\n",
        "plt.xlabel(\"x (m) [from center to surface]\")\n",
        "plt.ylabel(\"Temperature (°C)\")\n",
        "plt.grid(True)\n",
        "plt.tight_layout()\n",
        "plt.show()"
      ],
      "metadata": {
        "colab": {
          "base_uri": "https://localhost:8080/",
          "height": 507
        },
        "id": "aymTcEXIjy7n",
        "outputId": "1a27f3a9-5851-486f-9909-4b29239af3b0"
      },
      "execution_count": null,
      "outputs": [
        {
          "output_type": "display_data",
          "data": {
            "text/plain": [
              "<Figure size 800x500 with 1 Axes>"
            ],
            "image/png": "[encoded data removed]"
          },
          "metadata": {}
        }
      ]
    },
    {
      "cell_type": "markdown",
      "source": [
        "# Long Cylinder"
      ],
      "metadata": {
        "id": "MR7CtugJ_xbH"
      }
    },
    {
      "cell_type": "markdown",
      "source": [
        "## Parameters"
      ],
      "metadata": {
        "id": "-NKkzfaeBKfm"
      }
    },
    {
      "cell_type": "code",
      "source": [
        "r0 = 0.1  # Outer radius (m)\n",
        "L = 2  # Length of the cylinder (m)\n",
        "V = math.pi * (r0**2) * L  # Volume of the cylinder (m^3)\n",
        "\n",
        "T_inf = 50 + 273.15  # Ambient temperature (K)\n",
        "Ti = 400 + 273.15  # Initial temperature of the cylinder (K)\n",
        "\n",
        "h = 200  # Convective heat transfer coefficient (W/m^2K)\n",
        "\n",
        "k = 40  # Thermal conductivity of the cylinder (W/m·K)\n",
        "alpha = 1.0e-5  # Thermal diffusivity of the cylinder (m^2/s)\n",
        "\n",
        "t = 1200  # Time (s)\n",
        "r = 0.05  # Position from the center of the cylinder (meters, m), [0, r0]\n",
        "\n",
        "rho = 7800  # Density of the material (kg/m^3)\n",
        "Cp = 500    # Specific heat capacity of the material (J/kg·K)"
      ],
      "metadata": {
        "id": "ZPcoaOan_0PI"
      },
      "execution_count": null,
      "outputs": []
    },
    {
      "cell_type": "markdown",
      "source": [
        "## Lumped System Check"
      ],
      "metadata": {
        "id": "qryeChURh4XV"
      }
    },
    {
      "cell_type": "code",
      "source": [
        "A_s_cyl = 2 * math.pi * r0 * L + 2 * math.pi * r0**2  # Lateral + two ends\n",
        "\n",
        "Lc_cyl = V / A_s_cyl\n",
        "Bi_cyl = h * Lc_cyl / k\n",
        "\n",
        "print(f\"Lc_cyl: {Lc_cyl:.4f} m\")\n",
        "print(f\"Bi_cyl: {Bi_cyl:.4f} \\n\")\n",
        "\n",
        "if Bi_cyl <= 0.1:\n",
        "    print(\"Lumped system model is valid for the cylinder\")\n",
        "else:\n",
        "    print(\"Lumped system model is NOT valid for the cylinder\")\n"
      ],
      "metadata": {
        "colab": {
          "base_uri": "https://localhost:8080/"
        },
        "id": "V3oIrE8sh4vZ",
        "outputId": "84dfe2df-92e5-4ac0-9574-58d6716be350"
      },
      "execution_count": null,
      "outputs": [
        {
          "output_type": "stream",
          "name": "stdout",
          "text": [
            "Lc_cyl: 0.0476 m\n",
            "Bi_cyl: 0.2381 \n",
            "\n",
            "Lumped system model is NOT valid for the cylinder\n"
          ]
        }
      ]
    },
    {
      "cell_type": "markdown",
      "source": [
        "## Biot and Fourier numbers"
      ],
      "metadata": {
        "id": "thrqRQWNBFXg"
      }
    },
    {
      "cell_type": "code",
      "source": [
        "Bi = (h * r0) / k  # Biot number (dimensionless)\n",
        "Fo = (alpha * t) / (r0**2)  # Fourier number (dimensionless time)\n",
        "\n",
        "print(f\"Biot number (Bi): {Bi}\")\n",
        "print(f\"Fourier number (Fo) for time {t} s: {Fo}\")"
      ],
      "metadata": {
        "colab": {
          "base_uri": "https://localhost:8080/"
        },
        "id": "w2-Aw4srBOs6",
        "outputId": "b0f6b325-e0c5-4487-ac9d-a84f61eef66e"
      },
      "execution_count": null,
      "outputs": [
        {
          "output_type": "stream",
          "name": "stdout",
          "text": [
            "Biot number (Bi): 0.5\n",
            "Fourier number (Fo) for time 1200 s: 1.1999999999999997\n"
          ]
        }
      ]
    },
    {
      "cell_type": "markdown",
      "source": [
        "## Characteristic equation"
      ],
      "metadata": {
        "id": "1HkYJ3gzBqv6"
      }
    },
    {
      "cell_type": "code",
      "source": [
        "# Characteristic equation for a cylinder\n",
        "def characteristic_eq_cyl(lambda_n, Bi):\n",
        "    return lambda_n * j1(lambda_n) / j0(lambda_n) - Bi\n",
        "\n",
        "def solve_lambda_n_cyl(Bi, num_eigenvalues=5, tol=1e-6):\n",
        "    lambda_n_values = []\n",
        "\n",
        "    # Special case: Bi ≈ 0 ⇒ λ = 0 is a solution\n",
        "    if np.isclose(Bi, 0.0, atol=tol):\n",
        "        lambda_n_values.append(0.0)\n",
        "        num_eigenvalues -= 1  # reduce how many more roots we need\n",
        "\n",
        "    # Get more than needed to provide safe bracketing\n",
        "    j0_zeros = jn_zeros(0, num_eigenvalues + 5)\n",
        "\n",
        "    # Create brackets between J0 zeros to avoid asymptotes\n",
        "    brackets = [(1e-6, j0_zeros[0] - 1e-3)]  # Start very close to 0\n",
        "    for i in range(len(j0_zeros) - 1):\n",
        "        a = j0_zeros[i] + 1e-3\n",
        "        b = j0_zeros[i + 1] - 1e-3\n",
        "        brackets.append((a, b))\n",
        "\n",
        "    for a, b in brackets:\n",
        "        try:\n",
        "            sol = root_scalar(characteristic_eq_cyl, args=(Bi,), bracket=[a, b], method='brentq')\n",
        "            if sol.converged:\n",
        "                root = sol.root\n",
        "                if not any(np.isclose(root, val, atol=1e-6) for val in lambda_n_values):\n",
        "                    lambda_n_values.append(root)\n",
        "                    if len(lambda_n_values) >= num_eigenvalues:\n",
        "                        break\n",
        "        except ValueError:\n",
        "            continue\n",
        "\n",
        "    return np.sort(lambda_n_values)\n",
        "\n",
        "\n",
        "# Use the Biot number (Bi) calculated earlier\n",
        "lambda_n_values_cyl = solve_lambda_n_cyl(Bi)\n",
        "\n",
        "# Print the results\n",
        "print(\"Eigenvalues (lambda_n) for Bi =\", Bi)\n",
        "for i, lambda_n in enumerate(lambda_n_values_cyl):\n",
        "    print(f\"lambda_{i+1}: {lambda_n}\")"
      ],
      "metadata": {
        "colab": {
          "base_uri": "https://localhost:8080/"
        },
        "id": "DF3Xb4tIBrLL",
        "outputId": "1a95e692-2d3d-414f-8419-dd26df21a739"
      },
      "execution_count": null,
      "outputs": [
        {
          "output_type": "stream",
          "name": "stdout",
          "text": [
            "Eigenvalues (lambda_n) for Bi = 0.5\n",
            "lambda_1: 0.9407705639492654\n",
            "lambda_2: 3.9593711850125315\n",
            "lambda_3: 7.086380847961729\n",
            "lambda_4: 10.22245839663869\n",
            "lambda_5: 13.361148893395523\n"
          ]
        }
      ]
    },
    {
      "cell_type": "markdown",
      "source": [
        "**Check with Wolfram:** λ * (BesselJ[1, λ] / BesselJ[0, λ]) = Bi"
      ],
      "metadata": {
        "id": "k9moqaC3NXlH"
      }
    },
    {
      "cell_type": "markdown",
      "source": [
        "## Factor Aₙ"
      ],
      "metadata": {
        "id": "NQ8S2TN5Bj8_"
      }
    },
    {
      "cell_type": "code",
      "source": [
        "# Function to calculate A_n for the cylinder using the given expression\n",
        "def calculate_An_cyl(lambda_n_values):\n",
        "    An_values = []\n",
        "    for lambda_n in lambda_n_values:\n",
        "        numerator = j1(lambda_n)\n",
        "        denominator = j0(lambda_n)**2 + j1(lambda_n)**2\n",
        "        An = (2 / lambda_n) * (numerator / denominator)\n",
        "        An_values.append(An)\n",
        "    return An_values\n",
        "\n",
        "# Calculate A_n for each lambda_n\n",
        "An_values_cyl = calculate_An_cyl(lambda_n_values_cyl)\n",
        "\n",
        "# Print A_n values\n",
        "print(\"Corresponding A_n values for cylinder:\")\n",
        "for i, An in enumerate(An_values_cyl):\n",
        "    print(f\"A_{i+1}_cyl: {An}\")"
      ],
      "metadata": {
        "colab": {
          "base_uri": "https://localhost:8080/"
        },
        "id": "r2xrrSktNqCC",
        "outputId": "6e21cff7-0341-4243-ec54-b26cd578087e"
      },
      "execution_count": null,
      "outputs": [
        {
          "output_type": "stream",
          "name": "stdout",
          "text": [
            "Corresponding A_n values for cylinder:\n",
            "A_1_cyl: 1.114254631482523\n",
            "A_2_cyl: -0.15715959718524825\n",
            "A_3_cyl: 0.06618979991886696\n",
            "A_4_cyl: -0.03827763129269145\n",
            "A_5_cyl: 0.025635227377255234\n"
          ]
        }
      ]
    },
    {
      "cell_type": "markdown",
      "source": [
        "## Dimensionless temperature θₙ"
      ],
      "metadata": {
        "id": "x47Z9DgaPPsL"
      }
    },
    {
      "cell_type": "code",
      "source": [
        "# Function to calculate dimensionless temperature theta_n for a cylinder\n",
        "def calculate_theta_n_cyl(An_values, lambda_n_values, Fo, r, r0):\n",
        "    theta_n_values = []\n",
        "    for An, lambda_n in zip(An_values, lambda_n_values):\n",
        "        theta_n = An * np.exp(-(lambda_n**2) * Fo) * j0(lambda_n * r / r0)\n",
        "        theta_n_values.append(theta_n)\n",
        "    return theta_n_values\n",
        "\n",
        "# Example usage:\n",
        "# r: position at which to evaluate temperature (in same units as r0)\n",
        "# r0: radius of the cylinder\n",
        "theta_n_values_cyl = calculate_theta_n_cyl(An_values_cyl, lambda_n_values_cyl, Fo, r, r0)\n",
        "\n",
        "# Print each theta_n value\n",
        "print(\"Dimensionless temperature theta_n values (cylinder):\")\n",
        "for i, theta_n in enumerate(theta_n_values_cyl):\n",
        "    print(f\"theta_{i+1}_cyl: {theta_n}\")\n",
        "\n",
        "# Sum of theta_n terms\n",
        "sum_theta_n_cyl = sum(theta_n_values_cyl)\n",
        "print(f\"\\nSum of all theta_n values (cylinder): {sum_theta_n_cyl}\")"
      ],
      "metadata": {
        "colab": {
          "base_uri": "https://localhost:8080/"
        },
        "id": "HBqg9Mz3PWCx",
        "outputId": "0aa16904-99cf-4152-ed86-fa32d0057ce7"
      },
      "execution_count": null,
      "outputs": [
        {
          "output_type": "stream",
          "name": "stdout",
          "text": [
            "Dimensionless temperature theta_n values (cylinder):\n",
            "theta_1_cyl: 0.36422870197284085\n",
            "theta_2_cyl: -2.5039651719092953e-10\n",
            "theta_3_cyl: -1.7232777065347197e-28\n",
            "theta_4_cyl: 1.8660860907678226e-57\n",
            "theta_5_cyl: 6.6743046581528684e-96\n",
            "\n",
            "Sum of all theta_n values (cylinder): 0.3642287017224443\n"
          ]
        }
      ]
    },
    {
      "cell_type": "markdown",
      "source": [
        "##Solutions table"
      ],
      "metadata": {
        "id": "Vu5f4277Sec4"
      }
    },
    {
      "cell_type": "code",
      "source": [
        "# Function to display the results table (Cylinder version)\n",
        "def display_results_table_cyl(lambda_n_values, An_values, theta_n_values):\n",
        "    table_data = {\n",
        "        'n': np.arange(1, len(lambda_n_values) + 1),\n",
        "        'lambda_n_cyl': [round(val, 6) for val in lambda_n_values],\n",
        "        'A_n_cyl': [round(val, 6) for val in An_values],\n",
        "        'theta_n_cyl': [round(val, 6) for val in theta_n_values]\n",
        "    }\n",
        "\n",
        "    df = pd.DataFrame(table_data)\n",
        "\n",
        "    # Add the sum of theta_n at the bottom\n",
        "    sum_theta_n_cyl = round(sum(theta_n_values), 6)\n",
        "    df.loc[len(df)] = ['Sum', '', '', sum_theta_n_cyl]\n",
        "\n",
        "    # Display the table\n",
        "    print(\"\\nResults Table for Cylinder:\")\n",
        "    print(df)\n",
        "\n",
        "# Display results\n",
        "display_results_table_cyl(lambda_n_values_cyl, An_values_cyl, theta_n_values_cyl)\n",
        "\n",
        "# Function to calculate the total temperature T(r,t) for cylinder\n",
        "def calculate_temperature_cyl(T_inf, Ti, theta_n_values):\n",
        "    sum_theta_n_cyl = sum(theta_n_values)\n",
        "    T_total_cyl = T_inf + sum_theta_n_cyl * (Ti - T_inf)\n",
        "    return round(T_total_cyl, 2)\n",
        "\n",
        "# Calculate total temperature at r\n",
        "T_total_cyl = calculate_temperature_cyl(T_inf, Ti, theta_n_values_cyl)\n",
        "T_total_C_cyl = T_total_cyl - 273.15\n",
        "\n",
        "# Display temperature at r\n",
        "print(f\"\\nCalculated Temperature at r = {r} m: {T_total_cyl} K\")\n",
        "print(f\"Calculated Temperature at r = {r} m: {T_total_C_cyl:.2f} °C\")"
      ],
      "metadata": {
        "colab": {
          "base_uri": "https://localhost:8080/"
        },
        "id": "FCfhC9kES_EU",
        "outputId": "d45efeae-a798-461e-fc8a-fde96c9f6b37"
      },
      "execution_count": null,
      "outputs": [
        {
          "output_type": "stream",
          "name": "stdout",
          "text": [
            "\n",
            "Results Table for Cylinder:\n",
            "     n lambda_n_cyl   A_n_cyl  theta_n_cyl\n",
            "0    1     0.940771  1.114255     0.364229\n",
            "1    2     3.959371  -0.15716    -0.000000\n",
            "2    3     7.086381   0.06619    -0.000000\n",
            "3    4    10.222458 -0.038278     0.000000\n",
            "4    5    13.361149  0.025635     0.000000\n",
            "5  Sum                            0.364229\n",
            "\n",
            "Calculated Temperature at r = 0.05 m: 450.63 K\n",
            "Calculated Temperature at r = 0.05 m: 177.48 °C\n"
          ]
        }
      ]
    },
    {
      "cell_type": "markdown",
      "source": [
        "##Heat Transfer Q"
      ],
      "metadata": {
        "id": "ZJPy8LAtUZT7"
      }
    },
    {
      "cell_type": "code",
      "source": [
        "# First eigenvalue and A_n\n",
        "lambda_1_cyl = lambda_n_values_cyl[0]\n",
        "A1_cyl = An_values_cyl[0]\n",
        "\n",
        "# QMax\n",
        "QMax_cyl = rho * V * Cp * (Ti - T_inf)\n",
        "\n",
        "# theta_0 at center\n",
        "theta0_cyl = A1_cyl * np.exp(-lambda_1_cyl**2 * Fo)\n",
        "\n",
        "# Heat transfer Q for cylinder\n",
        "Q_cyl = QMax_cyl * (1 - (2 * theta0_cyl * j1(lambda_1_cyl) / lambda_1_cyl))\n",
        "\n",
        "# Display results\n",
        "print(f\"QMax (cylinder): {QMax_cyl:.3e} J\")\n",
        "print(f\"theta0_cyl (center): {theta0_cyl:.3e}\")\n",
        "print(f\"\\nHeat Transfer Q (cylinder): {Q_cyl:.3e} J\")\n",
        "\n",
        "if Q_cyl > 0:\n",
        "    print(f\"The cylinder expelled {Q_cyl:.2e} J of heat.\")\n",
        "else:\n",
        "    print(f\"The cylinder absorbed {-Q_cyl:.2e} J of heat.\")"
      ],
      "metadata": {
        "colab": {
          "base_uri": "https://localhost:8080/"
        },
        "id": "sC8aOmC5Uae5",
        "outputId": "4a8143f0-5ef0-4fcb-f286-49bc00e9a11e"
      },
      "execution_count": null,
      "outputs": [
        {
          "output_type": "stream",
          "name": "stdout",
          "text": [
            "QMax (cylinder): 8.577e+07 J\n",
            "theta0_cyl (center): 3.852e-01\n",
            "\n",
            "Heat Transfer Q (cylinder): 5.625e+07 J\n",
            "The cylinder expelled 5.62e+07 J of heat.\n"
          ]
        }
      ]
    },
    {
      "cell_type": "markdown",
      "source": [
        "# Sphere"
      ],
      "metadata": {
        "id": "W4W-mIEuXVqh"
      }
    },
    {
      "cell_type": "markdown",
      "source": [
        "##Parameters"
      ],
      "metadata": {
        "id": "dMXwTQa2XZ6A"
      }
    },
    {
      "cell_type": "code",
      "source": [
        "r0 = 0.1  # Outer radius of the sphere (m)\n",
        "V = (4 / 3) * math.pi * r0**3  # Volume of the sphere (m^3)\n",
        "\n",
        "T_inf = 50 + 273.15  # Ambient temperature (K)\n",
        "Ti = 400 + 273.15    # Initial temperature of the sphere (K)\n",
        "\n",
        "h = 200        # Convective heat transfer coefficient (W/m^2·K)\n",
        "k = 40         # Thermal conductivity of the sphere (W/m·K)\n",
        "alpha = 1.0e-5 # Thermal diffusivity (m^2/s)\n",
        "\n",
        "t = 1200     # Time (s)\n",
        "r = 0.05     # Radial position from center of sphere (m), [0, r0]\n",
        "\n",
        "rho = 7800  # Density (kg/m^3)\n",
        "Cp = 500    # Specific heat capacity (J/kg·K)"
      ],
      "metadata": {
        "id": "HOP1NUDsXbSt"
      },
      "execution_count": null,
      "outputs": []
    },
    {
      "cell_type": "markdown",
      "source": [
        "## Lumped System Check"
      ],
      "metadata": {
        "id": "CXkNyD8jinuG"
      }
    },
    {
      "cell_type": "code",
      "source": [
        "A_s_sph = 4 * math.pi * r0**2\n",
        "\n",
        "Lc_sph = V / A_s_sph\n",
        "Bi_sph = h * Lc_sph / k\n",
        "\n",
        "print(f\"Lc_sph: {Lc_sph:.4f} m\")\n",
        "print(f\"Bi_sph: {Bi_sph:.4f} \\n\")\n",
        "\n",
        "if Bi_sph <= 0.1:\n",
        "    print(\"Lumped system model is valid for the sphere\")\n",
        "else:\n",
        "    print(\"Lumped system model is NOT valid for the sphere\")\n"
      ],
      "metadata": {
        "colab": {
          "base_uri": "https://localhost:8080/"
        },
        "id": "PI9Lk_s_iqIk",
        "outputId": "cca7825b-8ff2-449b-c787-3efc1c3f8251"
      },
      "execution_count": null,
      "outputs": [
        {
          "output_type": "stream",
          "name": "stdout",
          "text": [
            "Lc_sph: 0.0333 m\n",
            "Bi_sph: 0.1667 \n",
            "\n",
            "Lumped system model is NOT valid for the sphere\n"
          ]
        }
      ]
    },
    {
      "cell_type": "markdown",
      "source": [
        "##Biot and Fourier numbers"
      ],
      "metadata": {
        "id": "YAm5xh__XxHg"
      }
    },
    {
      "cell_type": "code",
      "source": [
        "Bi = (h * r0) / k  # Biot number (dimensionless)\n",
        "Fo = (alpha * t) / (r0**2)  # Fourier number (dimensionless time)\n",
        "\n",
        "print(f\"Biot number (Bi): {Bi}\")\n",
        "print(f\"Fourier number (Fo) for time {t} s: {Fo}\")"
      ],
      "metadata": {
        "colab": {
          "base_uri": "https://localhost:8080/"
        },
        "id": "zaXzxi4mXzpg",
        "outputId": "77f7c7cd-4620-46fe-93b3-c9ba2a9c211f"
      },
      "execution_count": null,
      "outputs": [
        {
          "output_type": "stream",
          "name": "stdout",
          "text": [
            "Biot number (Bi): 0.5\n",
            "Fourier number (Fo) for time 1200 s: 1.1999999999999997\n"
          ]
        }
      ]
    },
    {
      "cell_type": "markdown",
      "source": [
        "##Characteristic equation"
      ],
      "metadata": {
        "id": "s4iDjxmvYDP_"
      }
    },
    {
      "cell_type": "code",
      "source": [
        "# Characteristic equation for a sphere\n",
        "def characteristic_eq_sph(lambda_n, Bi):\n",
        "    return 1 - lambda_n / np.tan(lambda_n) - Bi\n",
        "\n",
        "# Solver for lambda_n values for a sphere\n",
        "def solve_lambda_n_sph(Bi, num_eigenvalues=5, tol=1e-6):\n",
        "    lambda_n_values = []\n",
        "\n",
        "    # Special case: Bi ≈ 0 ⇒ λ = 0 is a solution\n",
        "    if np.isclose(Bi, 0.0, atol=tol):\n",
        "        lambda_n_values.append(0.0)\n",
        "        num_eigenvalues -= 1\n",
        "\n",
        "    # Brackets between asymptotes of tan: near multiples of π\n",
        "    brackets = [(n * np.pi + 1e-3, (n + 1) * np.pi - 1e-3) for n in range(num_eigenvalues * 2)]\n",
        "\n",
        "    for a, b in brackets:\n",
        "        try:\n",
        "            sol = root_scalar(characteristic_eq_sph, args=(Bi,), bracket=[a, b], method='brentq')\n",
        "            if sol.converged:\n",
        "                root = sol.root\n",
        "                if not any(np.isclose(root, val, atol=1e-6) for val in lambda_n_values):\n",
        "                    lambda_n_values.append(root)\n",
        "                    if len(lambda_n_values) >= num_eigenvalues:\n",
        "                        break\n",
        "        except ValueError:\n",
        "            continue\n",
        "\n",
        "    return np.sort(lambda_n_values)\n",
        "\n",
        "\n",
        "# Use the previously calculated Bi\n",
        "lambda_n_values_sph = solve_lambda_n_sph(Bi)\n",
        "\n",
        "# Display the eigenvalues\n",
        "print(\"Eigenvalues (lambda_n) for sphere, Bi =\", Bi)\n",
        "for i, lambda_n in enumerate(lambda_n_values_sph):\n",
        "    print(f\"lambda_{i+1}: {lambda_n}\")"
      ],
      "metadata": {
        "colab": {
          "base_uri": "https://localhost:8080/"
        },
        "id": "PyWf98hiYGNz",
        "outputId": "bfc9614c-ff3c-46bf-bcdf-e1bc27354d0f"
      },
      "execution_count": null,
      "outputs": [
        {
          "output_type": "stream",
          "name": "stdout",
          "text": [
            "Eigenvalues (lambda_n) for sphere, Bi = 0.5\n",
            "lambda_1: 1.1655611852071996\n",
            "lambda_2: 4.6042167772003095\n",
            "lambda_3: 7.789883751144573\n",
            "lambda_4: 10.94994364854116\n",
            "lambda_5: 14.101725133565873\n"
          ]
        }
      ]
    },
    {
      "cell_type": "markdown",
      "source": [
        "**Check with Wolfram:** 1 - x * cot(x) = Bi"
      ],
      "metadata": {
        "id": "LBJo0z6KZGsh"
      }
    },
    {
      "cell_type": "markdown",
      "source": [
        "## Factor Aₙ"
      ],
      "metadata": {
        "id": "m_kIM9-OZ4ge"
      }
    },
    {
      "cell_type": "code",
      "source": [
        "# Function to calculate A_n for the sphere using the given expression\n",
        "def calculate_An_sph(lambda_n_values):\n",
        "    An_values = []\n",
        "    for lambda_n in lambda_n_values:\n",
        "        numerator = 4 * (np.sin(lambda_n) - lambda_n * np.cos(lambda_n))\n",
        "        denominator = 2 * lambda_n - np.sin(2 * lambda_n)\n",
        "        An = numerator / denominator\n",
        "        An_values.append(An)\n",
        "    return An_values\n",
        "\n",
        "# Calculate A_n for each lambda_n\n",
        "An_values_sph = calculate_An_sph(lambda_n_values_sph)\n",
        "\n",
        "# Print A_n values\n",
        "print(\"Corresponding A_n values for sphere:\")\n",
        "for i, An in enumerate(An_values_sph):\n",
        "    print(f\"A_{i+1}_sph: {An}\")\n"
      ],
      "metadata": {
        "colab": {
          "base_uri": "https://localhost:8080/"
        },
        "id": "k1doULAAZ8j9",
        "outputId": "a2d90921-2281-4e8a-81cf-d773a63ed70b"
      },
      "execution_count": null,
      "outputs": [
        {
          "output_type": "stream",
          "name": "stdout",
          "text": [
            "Corresponding A_n values for sphere:\n",
            "A_1_sph: 1.1441063423067408\n",
            "A_2_sph: -0.22107631686001622\n",
            "A_3_sph: 0.12916793089026068\n",
            "A_4_sph: -0.09161084260217016\n",
            "A_5_sph: 0.07104718948169331\n"
          ]
        }
      ]
    },
    {
      "cell_type": "markdown",
      "source": [
        "## Dimensionless temperature θₙ"
      ],
      "metadata": {
        "id": "pULYak6Qavvu"
      }
    },
    {
      "cell_type": "code",
      "source": [
        "# Function to calculate dimensionless temperature theta_n for a sphere\n",
        "def calculate_theta_n_sph(An_values, lambda_n_values, Fo, r, r0):\n",
        "    theta_n_values = []\n",
        "    for An, lambda_n in zip(An_values, lambda_n_values):\n",
        "        if r == 0:\n",
        "            # At the center of the sphere, sin(x)/x → 1\n",
        "            spatial_part = 1\n",
        "        else:\n",
        "            spatial_part = np.sin(lambda_n * r / r0) / (lambda_n * r / r0)\n",
        "\n",
        "        theta_n = An * np.exp(-(lambda_n**2) * Fo) * spatial_part\n",
        "        theta_n_values.append(theta_n)\n",
        "    return theta_n_values\n",
        "\n",
        "# Calculate theta_n for the sphere\n",
        "theta_n_values_sph = calculate_theta_n_sph(An_values_sph, lambda_n_values_sph, Fo, r, r0)\n",
        "\n",
        "# Print theta_n values\n",
        "print(\"Dimensionless temperature theta_n values for sphere:\")\n",
        "for i, theta_n in enumerate(theta_n_values_sph):\n",
        "    print(f\"theta_{i+1}_sph: {theta_n}\")\n",
        "\n",
        "# Total dimensionless temperature\n",
        "sum_theta_n_sph = sum(theta_n_values_sph)\n",
        "print(f\"\\nSum of all theta_n values (sphere): {sum_theta_n_sph}\")\n"
      ],
      "metadata": {
        "colab": {
          "base_uri": "https://localhost:8080/"
        },
        "id": "TeXjSLhva0q6",
        "outputId": "307fa2da-1dbc-4b36-aae2-6d6d398416b1"
      },
      "execution_count": null,
      "outputs": [
        {
          "output_type": "stream",
          "name": "stdout",
          "text": [
            "Dimensionless temperature theta_n values for sphere:\n",
            "theta_1_sph: 0.21163839144532776\n",
            "theta_2_sph: -6.402229033480396e-13\n",
            "theta_3_sph: -5.382503000433104e-34\n",
            "theta_4_sph: 3.942630395915911e-65\n",
            "theta_5_sph: 1.618442915011877e-106\n",
            "\n",
            "Sum of all theta_n values (sphere): 0.21163839144468755\n"
          ]
        }
      ]
    },
    {
      "cell_type": "markdown",
      "source": [
        "## Solutions table"
      ],
      "metadata": {
        "id": "G40V7kY4b2gz"
      }
    },
    {
      "cell_type": "code",
      "source": [
        "# Function to display the results table (Sphere version)\n",
        "def display_results_table_sph(lambda_n_values, An_values, theta_n_values):\n",
        "    table_data = {\n",
        "        'n': np.arange(1, len(lambda_n_values) + 1),\n",
        "        'lambda_n_sph': [round(val, 6) for val in lambda_n_values],\n",
        "        'A_n_sph': [round(val, 6) for val in An_values],\n",
        "        'theta_n_sph': [round(val, 6) for val in theta_n_values]\n",
        "    }\n",
        "\n",
        "    df = pd.DataFrame(table_data)\n",
        "\n",
        "    # Add the sum of theta_n at the bottom\n",
        "    sum_theta_n_sph = round(sum(theta_n_values), 6)\n",
        "    df.loc[len(df)] = ['Sum', '', '', sum_theta_n_sph]\n",
        "\n",
        "    # Display the table\n",
        "    print(\"\\nResults Table for Sphere:\")\n",
        "    print(df)\n",
        "\n",
        "# Display results\n",
        "display_results_table_sph(lambda_n_values_sph, An_values_sph, theta_n_values_sph)\n",
        "\n",
        "# Function to calculate the total temperature T(r,t) for sphere\n",
        "def calculate_temperature_sph(T_inf, Ti, theta_n_values):\n",
        "    sum_theta_n_sph = sum(theta_n_values)\n",
        "    T_total_sph = T_inf + sum_theta_n_sph * (Ti - T_inf)\n",
        "    return round(T_total_sph, 2)\n",
        "\n",
        "# Calculate total temperature at r\n",
        "T_total_sph = calculate_temperature_sph(T_inf, Ti, theta_n_values_sph)\n",
        "T_total_C_sph = T_total_sph - 273.15\n",
        "\n",
        "# Display temperature at r\n",
        "print(f\"\\nCalculated Temperature at r = {r} m: {T_total_sph} K\")\n",
        "print(f\"Calculated Temperature at r = {r} m: {T_total_C_sph:.2f} °C\")"
      ],
      "metadata": {
        "colab": {
          "base_uri": "https://localhost:8080/"
        },
        "id": "eF6fLnc7cJOC",
        "outputId": "e571426f-2c8e-4d5e-ae7b-04d1d114db18"
      },
      "execution_count": null,
      "outputs": [
        {
          "output_type": "stream",
          "name": "stdout",
          "text": [
            "\n",
            "Results Table for Sphere:\n",
            "     n lambda_n_sph   A_n_sph  theta_n_sph\n",
            "0    1     1.165561  1.144106     0.211638\n",
            "1    2     4.604217 -0.221076    -0.000000\n",
            "2    3     7.789884  0.129168    -0.000000\n",
            "3    4    10.949944 -0.091611     0.000000\n",
            "4    5    14.101725  0.071047     0.000000\n",
            "5  Sum                            0.211638\n",
            "\n",
            "Calculated Temperature at r = 0.05 m: 397.22 K\n",
            "Calculated Temperature at r = 0.05 m: 124.07 °C\n"
          ]
        }
      ]
    },
    {
      "cell_type": "markdown",
      "source": [
        "## Heat Transfer Q"
      ],
      "metadata": {
        "id": "PNwcOsHkcQ_V"
      }
    },
    {
      "cell_type": "code",
      "source": [
        "# First eigenvalue and A_n for sphere\n",
        "lambda_1_sph = lambda_n_values_sph[0]\n",
        "A1_sph = An_values_sph[0]\n",
        "\n",
        "# QMax for sphere\n",
        "QMax_sph = rho * V * Cp * (Ti - T_inf)\n",
        "\n",
        "# theta0_sph at r = 0 (center of the sphere)\n",
        "theta0_sph = A1_sph * np.exp(-lambda_1_sph**2 * Fo)\n",
        "\n",
        "# Heat transfer Q for sphere\n",
        "numerator = np.sin(lambda_1_sph) - lambda_1_sph * np.cos(lambda_1_sph)\n",
        "Q_sph = QMax_sph * (1 - (3 * theta0_sph * numerator) / (lambda_1_sph**3))\n",
        "\n",
        "# Display results\n",
        "print(f\"QMax (sphere): {QMax_sph:.3e} J\")\n",
        "print(f\"theta0_sph (center): {theta0_sph:.3e}\")\n",
        "print(f\"\\nHeat Transfer Q (sphere): {Q_sph:.3e} J\")\n",
        "\n",
        "if Q_sph > 0:\n",
        "    print(f\"The sphere expelled {Q_sph:.2e} J of heat.\")\n",
        "else:\n",
        "    print(f\"The sphere absorbed {-Q_sph:.2e} J of heat.\")\n"
      ],
      "metadata": {
        "colab": {
          "base_uri": "https://localhost:8080/"
        },
        "id": "sViRN__ncTZ8",
        "outputId": "64b44c73-5269-4fd1-80e8-46ab8fd9a9ef"
      },
      "execution_count": null,
      "outputs": [
        {
          "output_type": "stream",
          "name": "stdout",
          "text": [
            "QMax (sphere): 5.718e+06 J\n",
            "theta0_sph (center): 2.241e-01\n",
            "\n",
            "Heat Transfer Q (sphere): 4.602e+06 J\n",
            "The sphere expelled 4.60e+06 J of heat.\n"
          ]
        }
      ]
    }
  ]
}